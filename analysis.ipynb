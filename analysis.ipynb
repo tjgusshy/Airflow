{
 "cells": [
  {
   "cell_type": "code",
   "execution_count": 3,
   "metadata": {},
   "outputs": [],
   "source": [
    "import pandas as pd\n",
    "import sqlite3\n",
    "import os"
   ]
  },
  {
   "cell_type": "code",
   "execution_count": 4,
   "metadata": {},
   "outputs": [],
   "source": [
    "dag_path = os.getcwd()\n",
    "taxi= pd.read_csv(f\"{dag_path}/raw/Taxi_Trips.csv\",low_memory=False)\n",
    "def convert_col_names(df):\n",
    "    ## converting column names to a lower case and adding an underscore\n",
    "         return df.rename(columns=lambda x: x.lower().replace(\" \",\"_\"))\n",
    "\n",
    "taxi = convert_col_names(taxi)\n",
    "\n",
    "taxi.to_csv(f\"{dag_path}/processed/processed_moniepoint.csv\",index=False)\n"
   ]
  },
  {
   "cell_type": "code",
   "execution_count": 5,
   "metadata": {},
   "outputs": [
    {
     "name": "stdout",
     "output_type": "stream",
     "text": [
      "0         False\n",
      "1         False\n",
      "2         False\n",
      "3         False\n",
      "4         False\n",
      "          ...  \n",
      "319687    False\n",
      "319688    False\n",
      "319689    False\n",
      "319690    False\n",
      "319691    False\n",
      "Name: trip_start_timestamp, Length: 319692, dtype: bool\n"
     ]
    }
   ],
   "source": [
    "print (taxi['trip_start_timestamp']== \"2014-01-01\")"
   ]
  },
  {
   "cell_type": "code",
   "execution_count": 5,
   "metadata": {},
   "outputs": [
    {
     "name": "stdout",
     "output_type": "stream",
     "text": [
      "CREATE TABLE \"ddd\" (\n",
      "\"trip_id\" TEXT,\n",
      "  \"taxi_id\" TEXT,\n",
      "  \"trip_start_timestamp\" TEXT,\n",
      "  \"trip_end_timestamp\" TEXT,\n",
      "  \"trip_seconds\" REAL,\n",
      "  \"trip_miles\" REAL,\n",
      "  \"pickup_census_tract\" REAL,\n",
      "  \"dropoff_census_tract\" REAL,\n",
      "  \"pickup_community_area\" REAL,\n",
      "  \"dropoff_community_area\" REAL,\n",
      "  \"fare\" REAL,\n",
      "  \"tips\" REAL,\n",
      "  \"tolls\" REAL,\n",
      "  \"extras\" REAL,\n",
      "  \"trip_total\" REAL,\n",
      "  \"payment_type\" TEXT,\n",
      "  \"company\" TEXT,\n",
      "  \"pickup_centroid_latitude\" REAL,\n",
      "  \"pickup_centroid_longitude\" REAL,\n",
      "  \"pickup_centroid_location\" TEXT,\n",
      "  \"dropoff_centroid_latitude\" REAL,\n",
      "  \"dropoff_centroid_longitude\" REAL,\n",
      "  \"dropoff_centroid__location\" TEXT\n",
      ")\n"
     ]
    }
   ],
   "source": [
    "print(pd.io.sql.get_schema(taxi,name=\"ddd\"))"
   ]
  }
 ],
 "metadata": {
  "kernelspec": {
   "display_name": "Python 3",
   "language": "python",
   "name": "python3"
  },
  "language_info": {
   "codemirror_mode": {
    "name": "ipython",
    "version": 3
   },
   "file_extension": ".py",
   "mimetype": "text/x-python",
   "name": "python",
   "nbconvert_exporter": "python",
   "pygments_lexer": "ipython3",
   "version": "3.11.5"
  }
 },
 "nbformat": 4,
 "nbformat_minor": 2
}
